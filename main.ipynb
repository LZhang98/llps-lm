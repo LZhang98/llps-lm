{
 "cells": [
  {
   "cell_type": "code",
   "execution_count": 20,
   "metadata": {},
   "outputs": [],
   "source": [
    "import torch\n",
    "import pandas as pd\n",
    "from processing import deephase_data\n",
    "import model\n",
    "import encoder\n",
    "import esm.pretrained"
   ]
  },
  {
   "cell_type": "code",
   "execution_count": 2,
   "metadata": {},
   "outputs": [],
   "source": [
    "# TODO: set hyperparams as config\n",
    "\n",
    "my_data, categories = deephase_data()\n",
    "\n",
    "# From ESM git repo readme\n",
    "test_data = [\n",
    "    (\"protein1\", \"MKTVRQERLKSIVRILERSKEPVSGAQLAEELSVSRQVIVQDIAYLRSLGYNIVATPRGYVLAGG\"),\n",
    "    (\"protein2\", \"KALTARQQEVFDLIRDHISQTGMPPTRAEIAQRLGFRSPNAAEEHLKALARKGVIEIVSGASRGIRLLQEE\"),\n",
    "    (\"protein2 with mask\",\"KALTARQQEVFDLIRD<mask>ISQTGMPPTRAEIAQRLGFRSPNAAEEHLKALARKGVIEIVSGASRGIRLLQEE\"),\n",
    "    (\"protein3\",  \"K A <mask> I S Q\"),\n",
    "]\n",
    "my_esm = model.ESM()"
   ]
  },
  {
   "cell_type": "code",
   "execution_count": 13,
   "metadata": {},
   "outputs": [
    {
     "name": "stdout",
     "output_type": "stream",
     "text": [
      "[('P05453', 'AGFQPQSQGMSLNDFQKQQKQAAPKPKKTLKLVSSSGIKLANATKKVGTKPAESDKKEEE'), ('P35637', 'ASNDYTQQATQSYGAYPTQPGQGYSQQSSQPYGQQSYSGYSQSTDTSGYGQSSYSSYGQS'), ('O60885', 'CLRKKRKPQAEKVDVIAGSSKMKGFSSSESESSSESSSSDSEDSETEMAPKSKKKGHPGR'), ('G5EBV6', 'DFDVYVLAKLLGFASEELQEEIEIIRDNVTDAFEACKPLLKKLMIEGPKIDSVDPFTQLL')]\n"
     ]
    }
   ],
   "source": [
    "x = my_data[0:4]\n",
    "x_short = []\n",
    "for i in x:\n",
    "    short = i[1][0:60]\n",
    "    x_short.append((i[0], short))\n",
    "\n",
    "print(x_short)\n",
    "\n",
    "batch_labels, batch_strs, batch_tokens = my_esm.batch_converter(x_short)\n",
    "\n",
    "with torch.no_grad():\n",
    "    my_results = my_esm.model(batch_tokens, repr_layers=[33], return_contacts = True)\n",
    "my_token_representations = my_results[\"representations\"][33]"
   ]
  },
  {
   "cell_type": "code",
   "execution_count": 4,
   "metadata": {},
   "outputs": [],
   "source": [
    "model, alphabet = esm.pretrained.esm2_t33_650M_UR50D()\n",
    "batch_converter = alphabet.get_batch_converter()\n",
    "model.eval()  # disables dropout for deterministic results\n",
    "\n",
    "batch_labels, batch_strs, batch_tokens = batch_converter(test_data)\n",
    "\n",
    "# Extract per-residue representations (on CPU)\n",
    "with torch.no_grad():\n",
    "    results = model(batch_tokens, repr_layers=[33], return_contacts=True)\n",
    "token_representations = results[\"representations\"][33]"
   ]
  },
  {
   "cell_type": "code",
   "execution_count": 16,
   "metadata": {},
   "outputs": [
    {
     "name": "stdout",
     "output_type": "stream",
     "text": [
      "torch.Size([4, 62, 1280])\n",
      "torch.Size([4, 73, 1280])\n"
     ]
    }
   ],
   "source": [
    "print(my_token_representations.size())\n",
    "print(token_representations.size())"
   ]
  },
  {
   "cell_type": "code",
   "execution_count": 23,
   "metadata": {},
   "outputs": [
    {
     "data": {
      "text/plain": [
       "torch.Size([4, 62, 1280])"
      ]
     },
     "execution_count": 23,
     "metadata": {},
     "output_type": "execute_result"
    }
   ],
   "source": [
    "num_layers = 1\n",
    "model_dim = 1280\n",
    "num_heads = 4\n",
    "ff_dim = 1280\n",
    "my_encoder = encoder.Encoder(num_layers, model_dim, num_heads, ff_dim)\n",
    "my_encoded = my_encoder(my_token_representations)\n",
    "\n",
    "my_encoded.size()"
   ]
  }
 ],
 "metadata": {
  "kernelspec": {
   "display_name": "Python 3.6.8 ('my_env')",
   "language": "python",
   "name": "python3"
  },
  "language_info": {
   "codemirror_mode": {
    "name": "ipython",
    "version": 3
   },
   "file_extension": ".py",
   "mimetype": "text/x-python",
   "name": "python",
   "nbconvert_exporter": "python",
   "pygments_lexer": "ipython3",
   "version": "3.6.8"
  },
  "orig_nbformat": 4,
  "vscode": {
   "interpreter": {
    "hash": "b6a7abe3476a1380111688573138cdd1911363971b6355ebed0eb58d80c09702"
   }
  }
 },
 "nbformat": 4,
 "nbformat_minor": 2
}
